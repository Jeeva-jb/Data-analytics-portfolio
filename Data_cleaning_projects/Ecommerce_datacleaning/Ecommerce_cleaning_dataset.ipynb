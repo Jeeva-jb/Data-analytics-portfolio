{
 "cells": [
  {
   "cell_type": "code",
   "execution_count": 2,
   "id": "45b80fae",
   "metadata": {},
   "outputs": [],
   "source": [
    "####Importing the required packages and dataset for analyzation\n",
    "import numpy as np\n",
    "import pandas as pd\n",
    "import matplotlib as mp\n",
    "import seaborn as sns\n",
    "\n",
    "df=pd.read_csv('C:/Users/jeeva/OneDrive/Documents/Data cleaning dataset/Ecommerce_dataset_sample.csv',encoding='latin1')\n",
    "\n"
   ]
  },
  {
   "cell_type": "code",
   "execution_count": 3,
   "id": "e228824e",
   "metadata": {},
   "outputs": [
    {
     "name": "stdout",
     "output_type": "stream",
     "text": [
      "(541909, 8)\n",
      "<class 'pandas.core.frame.DataFrame'>\n",
      "RangeIndex: 541909 entries, 0 to 541908\n",
      "Data columns (total 8 columns):\n",
      " #   Column       Non-Null Count   Dtype  \n",
      "---  ------       --------------   -----  \n",
      " 0   InvoiceNo    541909 non-null  object \n",
      " 1   StockCode    541909 non-null  object \n",
      " 2   Description  540455 non-null  object \n",
      " 3   Quantity     541909 non-null  int64  \n",
      " 4   InvoiceDate  541909 non-null  object \n",
      " 5   UnitPrice    541909 non-null  float64\n",
      " 6   CustomerID   406829 non-null  float64\n",
      " 7   Country      541909 non-null  object \n",
      "dtypes: float64(2), int64(1), object(5)\n",
      "memory usage: 33.1+ MB\n",
      "None\n"
     ]
    }
   ],
   "source": [
    "####check the shape and info about the dataset\n",
    "print(df.shape)\n",
    "print(df.info())"
   ]
  },
  {
   "cell_type": "code",
   "execution_count": 4,
   "id": "df10cd9c",
   "metadata": {},
   "outputs": [
    {
     "name": "stdout",
     "output_type": "stream",
     "text": [
      "InvoiceNo           0\n",
      "StockCode           0\n",
      "Description      1454\n",
      "Quantity            0\n",
      "InvoiceDate         0\n",
      "UnitPrice           0\n",
      "CustomerID     135080\n",
      "Country             0\n",
      "dtype: int64\n"
     ]
    }
   ],
   "source": [
    "####check for the missing values in the dataset\n",
    "print(df.isnull().sum())"
   ]
  },
  {
   "cell_type": "code",
   "execution_count": null,
   "id": "2d6cb150",
   "metadata": {},
   "outputs": [],
   "source": [
    "####Since there is missing values, it could be dropped as it contains no value, and also it helps to reduce the data file size\n",
    "df = df.dropna(subset=['CustomerID', 'Description'])"
   ]
  },
  {
   "cell_type": "code",
   "execution_count": 13,
   "id": "8a9a4d51",
   "metadata": {},
   "outputs": [
    {
     "name": "stdout",
     "output_type": "stream",
     "text": [
      "<class 'pandas.core.frame.DataFrame'>\n",
      "RangeIndex: 541909 entries, 0 to 541908\n",
      "Data columns (total 8 columns):\n",
      " #   Column       Non-Null Count   Dtype  \n",
      "---  ------       --------------   -----  \n",
      " 0   InvoiceNo    541909 non-null  object \n",
      " 1   StockCode    541909 non-null  object \n",
      " 2   Description  541909 non-null  object \n",
      " 3   Quantity     541909 non-null  int64  \n",
      " 4   InvoiceDate  541909 non-null  object \n",
      " 5   UnitPrice    541909 non-null  float64\n",
      " 6   CustomerID   541909 non-null  float64\n",
      " 7   Country      541909 non-null  object \n",
      "dtypes: float64(2), int64(1), object(5)\n",
      "memory usage: 33.1+ MB\n",
      "None\n",
      "InvoiceNo      0\n",
      "StockCode      0\n",
      "Description    0\n",
      "Quantity       0\n",
      "InvoiceDate    0\n",
      "UnitPrice      0\n",
      "CustomerID     0\n",
      "Country        0\n",
      "dtype: int64\n"
     ]
    }
   ],
   "source": [
    "####Dataset after dropping the missing values\n",
    "print(df.info())\n",
    "print(df.isnull().sum())"
   ]
  },
  {
   "cell_type": "code",
   "execution_count": 19,
   "id": "737fb9bc",
   "metadata": {},
   "outputs": [
    {
     "name": "stdout",
     "output_type": "stream",
     "text": [
      "\n",
      "Shape after removing duplicates: (541909, 8)\n"
     ]
    }
   ],
   "source": [
    "####Dropping the duplicate values\n",
    "df.drop_duplicates()\n",
    "print(\"\\nShape after removing duplicates:\", df.shape)"
   ]
  },
  {
   "cell_type": "code",
   "execution_count": 37,
   "id": "43152a07",
   "metadata": {},
   "outputs": [],
   "source": [
    "####Converting the datatypes and formatting the dataset as per the datatype\n",
    "df['InvoiceDate']=pd.to_datetime(df['InvoiceDate'])\n",
    "df['CustomerID']=df['CustomerID'].astype('object')\n"
   ]
  },
  {
   "cell_type": "code",
   "execution_count": 26,
   "id": "c044686d",
   "metadata": {},
   "outputs": [],
   "source": [
    "####Standardize the text field columns so that the data is smooth to analyze\n",
    "for col in df.select_dtypes(include='object').columns:\n",
    "    df[col] = df[col].apply(lambda x: x.title().strip() if isinstance(x, str) else x)"
   ]
  },
  {
   "cell_type": "code",
   "execution_count": 6,
   "id": "f9005869",
   "metadata": {},
   "outputs": [],
   "source": [
    "####Handling invalid values\n",
    "df = df[df['Quantity'] > 0]\n",
    "df = df[df['UnitPrice'] >= 0]"
   ]
  },
  {
   "cell_type": "code",
   "execution_count": 4,
   "id": "ae943be3",
   "metadata": {},
   "outputs": [
    {
     "data": {
      "image/png": "[encoded data removed]",
      "text/plain": [
       "<Figure size 1000x600 with 1 Axes>"
      ]
     },
     "metadata": {},
     "output_type": "display_data"
    }
   ],
   "source": [
    "####Removed UnitPrice>8000 as removing the outlier will help the aznalyzation not getting skewed(Based on the business workflow)\n",
    "df = df[(df['UnitPrice'] <= 8000) & (df['UnitPrice'] >= 0)]\n",
    "\n",
    "mp.pyplot.figure(figsize=(10,6))\n",
    "sns.boxplot(df['UnitPrice'])\n",
    "mp.pyplot.title('UnitPrice Distribution (After Outlier Filtering)')\n",
    "mp.pyplot.show()"
   ]
  },
  {
   "cell_type": "code",
   "execution_count": 43,
   "id": "37a96459",
   "metadata": {},
   "outputs": [
    {
     "name": "stdout",
     "output_type": "stream",
     "text": [
      "\n",
      "Cleaned Dataset Info:\n",
      "<class 'pandas.core.frame.DataFrame'>\n",
      "Index: 531281 entries, 0 to 541908\n",
      "Data columns (total 8 columns):\n",
      " #   Column       Non-Null Count   Dtype         \n",
      "---  ------       --------------   -----         \n",
      " 0   InvoiceNo    531281 non-null  object        \n",
      " 1   StockCode    531281 non-null  object        \n",
      " 2   Description  530689 non-null  object        \n",
      " 3   Quantity     531281 non-null  int64         \n",
      " 4   InvoiceDate  531281 non-null  datetime64[ns]\n",
      " 5   UnitPrice    531281 non-null  float64       \n",
      " 6   CustomerID   531281 non-null  object        \n",
      " 7   Country      531281 non-null  object        \n",
      "dtypes: datetime64[ns](1), float64(1), int64(1), object(5)\n",
      "memory usage: 36.5+ MB\n",
      "None\n",
      "            Quantity                    InvoiceDate      UnitPrice\n",
      "count  531281.000000                         531281  531281.000000\n",
      "mean       10.655335  2011-07-04 18:16:00.868692992       3.852659\n",
      "min         1.000000            2010-12-01 08:26:00       0.000000\n",
      "25%         1.000000            2011-03-28 11:59:00       1.250000\n",
      "50%         3.000000            2011-07-20 12:01:00       2.080000\n",
      "75%        10.000000            2011-10-19 12:35:00       4.130000\n",
      "max     80995.000000            2011-12-09 12:50:00    8142.750000\n",
      "std       156.830911                            NaN      26.683311\n"
     ]
    }
   ],
   "source": [
    "####Cleaned dataset for further analyzation\n",
    "print(\"\\nCleaned Dataset Info:\")\n",
    "print(df.info())\n",
    "print(df.describe())\n"
   ]
  },
  {
   "cell_type": "code",
   "execution_count": 11,
   "id": "a3af783e",
   "metadata": {},
   "outputs": [],
   "source": [
    "#####Saving the cleaned data as file\n",
    "df.to_csv('C:/Users/jeeva/OneDrive/Documents/Data cleaning project/Ecommerce_datacleaned.csv', index=False)"
   ]
  }
 ],
 "metadata": {
  "kernelspec": {
   "display_name": "Python 3",
   "language": "python",
   "name": "python3"
  },
  "language_info": {
   "codemirror_mode": {
    "name": "ipython",
    "version": 3
   },
   "file_extension": ".py",
   "mimetype": "text/x-python",
   "name": "python",
   "nbconvert_exporter": "python",
   "pygments_lexer": "ipython3",
   "version": "3.11.9"
  }
 },
 "nbformat": 4,
 "nbformat_minor": 5
}
