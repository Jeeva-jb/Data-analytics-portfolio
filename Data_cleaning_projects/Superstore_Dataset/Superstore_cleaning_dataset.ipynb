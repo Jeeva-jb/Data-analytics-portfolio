{
 "cells": [
  {
   "cell_type": "code",
   "execution_count": 74,
   "id": "02979c83",
   "metadata": {},
   "outputs": [
    {
     "name": "stdout",
     "output_type": "stream",
     "text": [
      "Initial Dataset Shape: (9994, 21)\n",
      "   Row ID        Order ID  Order Date   Ship Date       Ship Mode Customer ID  \\\n",
      "0       1  CA-2016-152156  11-08-2016  11-11-2016    Second Class    CG-12520   \n",
      "1       2  CA-2016-152156  11-08-2016  11-11-2016    Second Class    CG-12520   \n",
      "2       3  CA-2016-138688  06-12-2016   6/16/2016    Second Class    DV-13045   \n",
      "3       4  US-2015-108966  10-11-2015  10/18/2015  Standard Class    SO-20335   \n",
      "4       5  US-2015-108966  10-11-2015  10/18/2015  Standard Class    SO-20335   \n",
      "\n",
      "     Customer Name    Segment        Country             City  ...  \\\n",
      "0      Claire Gute   Consumer  United States        Henderson  ...   \n",
      "1      Claire Gute   Consumer  United States        Henderson  ...   \n",
      "2  Darrin Van Huff  Corporate  United States      Los Angeles  ...   \n",
      "3   Sean O'Donnell   Consumer  United States  Fort Lauderdale  ...   \n",
      "4   Sean O'Donnell   Consumer  United States  Fort Lauderdale  ...   \n",
      "\n",
      "  Postal Code  Region       Product ID         Category Sub-Category  \\\n",
      "0       42420   South  FUR-BO-10001798        Furniture    Bookcases   \n",
      "1       42420   South  FUR-CH-10000454        Furniture       Chairs   \n",
      "2       90036    West  OFF-LA-10000240  Office Supplies       Labels   \n",
      "3       33311   South  FUR-TA-10000577        Furniture       Tables   \n",
      "4       33311   South  OFF-ST-10000760  Office Supplies      Storage   \n",
      "\n",
      "                                        Product Name     Sales  Quantity  \\\n",
      "0                  Bush Somerset Collection Bookcase  261.9600         2   \n",
      "1  Hon Deluxe Fabric Upholstered Stacking Chairs,...  731.9400         3   \n",
      "2  Self-Adhesive Address Labels for Typewriters b...   14.6200         2   \n",
      "3      Bretford CR4500 Series Slim Rectangular Table  957.5775         5   \n",
      "4                     Eldon Fold 'N Roll Cart System   22.3680         2   \n",
      "\n",
      "   Discount    Profit  \n",
      "0      0.00   41.9136  \n",
      "1      0.00  219.5820  \n",
      "2      0.00    6.8714  \n",
      "3      0.45 -383.0310  \n",
      "4      0.20    2.5164  \n",
      "\n",
      "[5 rows x 21 columns]\n",
      "<class 'pandas.core.frame.DataFrame'>\n",
      "RangeIndex: 9994 entries, 0 to 9993\n",
      "Data columns (total 21 columns):\n",
      " #   Column         Non-Null Count  Dtype  \n",
      "---  ------         --------------  -----  \n",
      " 0   Row ID         9994 non-null   int64  \n",
      " 1   Order ID       9994 non-null   object \n",
      " 2   Order Date     9994 non-null   object \n",
      " 3   Ship Date      9994 non-null   object \n",
      " 4   Ship Mode      9994 non-null   object \n",
      " 5   Customer ID    9994 non-null   object \n",
      " 6   Customer Name  9994 non-null   object \n",
      " 7   Segment        9994 non-null   object \n",
      " 8   Country        9994 non-null   object \n",
      " 9   City           9994 non-null   object \n",
      " 10  State          9994 non-null   object \n",
      " 11  Postal Code    9994 non-null   int64  \n",
      " 12  Region         9994 non-null   object \n",
      " 13  Product ID     9994 non-null   object \n",
      " 14  Category       9994 non-null   object \n",
      " 15  Sub-Category   9994 non-null   object \n",
      " 16  Product Name   9994 non-null   object \n",
      " 17  Sales          9994 non-null   float64\n",
      " 18  Quantity       9994 non-null   int64  \n",
      " 19  Discount       9994 non-null   float64\n",
      " 20  Profit         9994 non-null   float64\n",
      "dtypes: float64(3), int64(3), object(15)\n",
      "memory usage: 1.6+ MB\n",
      "None\n"
     ]
    }
   ],
   "source": [
    "####Importing packages and importing dataset that has to be cleaned for analyzation\n",
    "import pandas as pd\n",
    "import numpy as np\n",
    "import matplotlib.pyplot as plt\n",
    "import seaborn as sns\n",
    "\n",
    "df = pd.read_csv(\"C:/Users/jeeva/OneDrive/Documents/Data cleaning dataset/Sample - Superstore.csv\",encoding='latin1')\n",
    "\n",
    "print(\"Initial Dataset Shape:\",df.shape)\n",
    "print(df.head())\n",
    "print(df.info())\n",
    "\n",
    "\n"
   ]
  },
  {
   "cell_type": "code",
   "execution_count": 58,
   "id": "46a54c39",
   "metadata": {},
   "outputs": [
    {
     "name": "stdout",
     "output_type": "stream",
     "text": [
      "Missing values before handling:\n",
      "Row ID           0\n",
      "Order ID         0\n",
      "Order Date       0\n",
      "Ship Date        0\n",
      "Ship Mode        0\n",
      "Customer ID      0\n",
      "Customer Name    0\n",
      "Segment          0\n",
      "Country          0\n",
      "City             0\n",
      "State            0\n",
      "Postal Code      0\n",
      "Region           0\n",
      "Product ID       0\n",
      "Category         0\n",
      "Sub-Category     0\n",
      "Product Name     0\n",
      "Sales            0\n",
      "Quantity         0\n",
      "Discount         0\n",
      "Profit           0\n",
      "dtype: int64\n"
     ]
    }
   ],
   "source": [
    "####check for missing values\n",
    "\n",
    "print(\"Missing values before handling:\")\n",
    "print(df.isnull().sum())"
   ]
  },
  {
   "cell_type": "code",
   "execution_count": 57,
   "id": "12bf4cb4",
   "metadata": {},
   "outputs": [
    {
     "name": "stdout",
     "output_type": "stream",
     "text": [
      "\n",
      "Shape after removing duplicates: (9990, 21)\n"
     ]
    }
   ],
   "source": [
    "#####Since no null value is present in the columns,There is no need to fill missing values in the columns and shall remove the duplicates.\n",
    "\n",
    "df.drop_duplicates()\n",
    "print(\"\\nShape after removing duplicates:\", df.shape)\n"
   ]
  },
  {
   "cell_type": "code",
   "execution_count": 56,
   "id": "f39d2f4b",
   "metadata": {},
   "outputs": [],
   "source": [
    "####Standardize the text fields(dtype=obj)\n",
    "\n",
    "for col in df.select_dtypes(include='object').columns:\n",
    "    df[col] = df[col].str.title().str.strip()"
   ]
  },
  {
   "cell_type": "code",
   "execution_count": 65,
   "id": "2eb2c108",
   "metadata": {},
   "outputs": [],
   "source": [
    "####Convert datatypes\n",
    "df['Postal Code'] = df['Postal Code'].astype(str)\n",
    "df['Order Date'] = pd.to_datetime(df['Order Date'],dayfirst='false', format='mixed')\n",
    "df['Ship Date'] = pd.to_datetime(df['Ship Date'],dayfirst='false', format='mixed')"
   ]
  },
  {
   "cell_type": "code",
   "execution_count": 54,
   "id": "6c97a226",
   "metadata": {},
   "outputs": [],
   "source": [
    "####Handling invalid values\n",
    "df = df[df['Quantity'] > 0]\n",
    "df = df[df['Sales'] >= 0]\n"
   ]
  },
  {
   "cell_type": "code",
   "execution_count": null,
   "id": "6bb3d3a2",
   "metadata": {},
   "outputs": [
    {
     "data": {
      "image/png": "[encoded data removed]",
      "text/plain": [
       "<Figure size 1000x600 with 1 Axes>"
      ]
     },
     "metadata": {},
     "output_type": "display_data"
    }
   ],
   "source": [
    "####Removing the extreme outliers as it may affect the analysis later(Depends on the business workflow)\n",
    "plt.figure(figsize=(10,6))\n",
    "sns.boxplot(df['Profit'])\n",
    "plt.title('Profit Distribution (Before Outlier Filtering)')\n",
    "plt.show()"
   ]
  },
  {
   "cell_type": "code",
   "execution_count": 63,
   "id": "0296f2f9",
   "metadata": {},
   "outputs": [
    {
     "data": {
      "image/png": "[encoded data removed]",
      "text/plain": [
       "<Figure size 1000x600 with 1 Axes>"
      ]
     },
     "metadata": {},
     "output_type": "display_data"
    }
   ],
   "source": [
    "####Removed profit=-5000 and profit<=7000 as based on the business data\n",
    "df = df[df['Profit'] > -5000]\n",
    "df = df[df['Profit'] <= 7000]\n",
    "\n",
    "plt.figure(figsize=(10,6))\n",
    "sns.boxplot(df['Profit'])\n",
    "plt.title('Profit Distribution (After Outlier Filtering)')\n",
    "plt.show()"
   ]
  },
  {
   "cell_type": "code",
   "execution_count": 70,
   "id": "fcff90a0",
   "metadata": {},
   "outputs": [
    {
     "name": "stdout",
     "output_type": "stream",
     "text": [
      "\n",
      "Cleaned Dataset Info:\n",
      "<class 'pandas.core.frame.DataFrame'>\n",
      "Index: 9992 entries, 0 to 9993\n",
      "Data columns (total 21 columns):\n",
      " #   Column         Non-Null Count  Dtype         \n",
      "---  ------         --------------  -----         \n",
      " 0   Row ID         9992 non-null   int64         \n",
      " 1   Order ID       9992 non-null   object        \n",
      " 2   Order Date     9992 non-null   datetime64[ns]\n",
      " 3   Ship Date      9992 non-null   datetime64[ns]\n",
      " 4   Ship Mode      9992 non-null   object        \n",
      " 5   Customer ID    9992 non-null   object        \n",
      " 6   Customer Name  9992 non-null   object        \n",
      " 7   Segment        9992 non-null   object        \n",
      " 8   Country        9992 non-null   object        \n",
      " 9   City           9992 non-null   object        \n",
      " 10  State          9992 non-null   object        \n",
      " 11  Postal Code    9992 non-null   object        \n",
      " 12  Region         9992 non-null   object        \n",
      " 13  Product ID     9992 non-null   object        \n",
      " 14  Category       9992 non-null   object        \n",
      " 15  Sub-Category   9992 non-null   object        \n",
      " 16  Product Name   9992 non-null   object        \n",
      " 17  Sales          9992 non-null   float64       \n",
      " 18  Quantity       9992 non-null   int64         \n",
      " 19  Discount       9992 non-null   float64       \n",
      " 20  Profit         9992 non-null   float64       \n",
      "dtypes: datetime64[ns](2), float64(3), int64(2), object(14)\n",
      "memory usage: 1.7+ MB\n",
      "None\n",
      "            Row ID                     Order Date  \\\n",
      "count  9992.000000                           9992   \n",
      "mean   4997.039131  2016-04-11 06:53:45.300240128   \n",
      "min       1.000000            2014-01-02 00:00:00   \n",
      "25%    2498.750000            2015-05-01 00:00:00   \n",
      "50%    4996.500000            2016-05-30 00:00:00   \n",
      "75%    7495.250000            2017-04-09 00:00:00   \n",
      "max    9994.000000            2017-12-30 00:00:00   \n",
      "std    2885.260689                            NaN   \n",
      "\n",
      "                           Ship Date         Sales     Quantity     Discount  \\\n",
      "count                           9992   9992.000000  9992.000000  9992.000000   \n",
      "mean   2016-04-20 15:27:40.208166656    227.702254     3.789331     0.156164   \n",
      "min              2014-01-04 00:00:00      0.444000     1.000000     0.000000   \n",
      "25%              2015-05-06 18:00:00     17.272000     2.000000     0.000000   \n",
      "50%              2016-06-12 00:00:00     54.432000     3.000000     0.200000   \n",
      "75%              2017-04-29 00:00:00    209.932500     5.000000     0.200000   \n",
      "max              2018-05-01 00:00:00  22638.480000    14.000000     0.800000   \n",
      "std                              NaN    597.352533     2.225266     0.206395   \n",
      "\n",
      "            Profit  \n",
      "count  9992.000000  \n",
      "mean     28.482488  \n",
      "min   -3839.990400  \n",
      "25%       1.730250  \n",
      "50%       8.666500  \n",
      "75%      29.364000  \n",
      "max    6719.980800  \n",
      "std     208.510680  \n"
     ]
    }
   ],
   "source": [
    "####Cleaned dataset for further analyzation\n",
    "print(\"\\nCleaned Dataset Info:\")\n",
    "print(df.info())\n",
    "print(df.describe())\n"
   ]
  },
  {
   "cell_type": "code",
   "execution_count": 73,
   "id": "85681716",
   "metadata": {},
   "outputs": [],
   "source": [
    "####Saving the cleaned data as file\n",
    "df.to_csv('C:/Users/jeeva/Downloads/Power BI/archive/Superstore_Cleaned.csv', index=False)\n"
   ]
  }
 ],
 "metadata": {
  "kernelspec": {
   "display_name": "Python 3",
   "language": "python",
   "name": "python3"
  },
  "language_info": {
   "codemirror_mode": {
    "name": "ipython",
    "version": 3
   },
   "file_extension": ".py",
   "mimetype": "text/x-python",
   "name": "python",
   "nbconvert_exporter": "python",
   "pygments_lexer": "ipython3",
   "version": "3.11.9"
  }
 },
 "nbformat": 4,
 "nbformat_minor": 5
}
